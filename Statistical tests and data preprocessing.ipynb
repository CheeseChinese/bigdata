{
 "cells": [
  {
   "cell_type": "markdown",
   "id": "7d1a8221",
   "metadata": {},
   "source": [
    "Проверить в данных наличие пропущенных значений. Вывести количество пропущенных значений в процентах. Удалить два признака, в которых больше всех пропущенных значений. Для оставшихся признаков обработать пропуски: для категориального признака использовать заполнение значением по умолчанию (например, «other»), для числового признака использовать заполнение медианным значением. Показать, что пропусков больше в данных нет.\n",
    "В цикле проверяем количество пропущенных значений и выводим результат в процентах. Основываясь на выводе, удаляем два столбца с 4.7 и 0.4 процентами пропусков. Категориальный и числовой признаки с 0.2% пропусков заполняем «other» и медианным значением соответственно. Проверяем пропуски."
   ]
  },
  {
   "cell_type": "code",
   "execution_count": 1,
   "id": "be14238a",
   "metadata": {},
   "outputs": [
    {
     "name": "stdout",
     "output_type": "stream",
     "text": [
      "dateRep : 0.0%\n",
      "day : 0.0%\n",
      "month : 0.0%\n",
      "year : 0.0%\n",
      "cases : 0.0%\n",
      "deaths : 0.0%\n",
      "countriesAndTerritories : 0.0%\n",
      "geoId : 0.4%\n",
      "countryterritoryCode : 0.2%\n",
      "popData2019 : 0.2%\n",
      "continentExp : 0.0%\n",
      "Cumulative_number_for_14_days_of_COVID-19_cases_per_100000 : 4.7%\n"
     ]
    },
    {
     "data": {
      "text/plain": [
       "dateRep                    0\n",
       "day                        0\n",
       "month                      0\n",
       "year                       0\n",
       "cases                      0\n",
       "deaths                     0\n",
       "countriesAndTerritories    0\n",
       "countryterritoryCode       0\n",
       "popData2019                0\n",
       "continentExp               0\n",
       "dtype: int64"
      ]
     },
     "execution_count": 1,
     "metadata": {},
     "output_type": "execute_result"
    }
   ],
   "source": [
    "import pandas as pd\n",
    "import seaborn as sns\n",
    "import matplotlib\n",
    "import matplotlib.pyplot as plt\n",
    "import numpy as np\n",
    "data = pd.read_csv('ECDCCases.csv', sep = ',')\n",
    "df = pd.DataFrame(data)\n",
    "for column in df.columns:\n",
    "    missing = np.mean(df[column].isna()*100)\n",
    "    print(f\"{column} : {round(missing,1)}%\")\n",
    "df.drop(['Cumulative_number_for_14_days_of_COVID-19_cases_per_100000', 'geoId'],  axis=1, inplace=True)\n",
    "df.countryterritoryCode.fillna('other', inplace=True)\n",
    "df.popData2019.fillna(df.popData2019.median(), inplace=True)\n",
    "df.isna().sum()"
   ]
  },
  {
   "cell_type": "markdown",
   "id": "98a19fb3",
   "metadata": {},
   "source": [
    "Посмотреть статистику по данным, используя describe(). \n",
    "Сделать выводы о том, какие признаки содержат выбросы. \n",
    "Посмотреть, для каких стран количество смертей в день превысило 3000 и сколько таких дней было."
   ]
  },
  {
   "cell_type": "code",
   "execution_count": 4,
   "id": "6854de4e",
   "metadata": {},
   "outputs": [
    {
     "data": {
      "text/html": [
       "<div>\n",
       "<style scoped>\n",
       "    .dataframe tbody tr th:only-of-type {\n",
       "        vertical-align: middle;\n",
       "    }\n",
       "\n",
       "    .dataframe tbody tr th {\n",
       "        vertical-align: top;\n",
       "    }\n",
       "\n",
       "    .dataframe thead th {\n",
       "        text-align: right;\n",
       "    }\n",
       "</style>\n",
       "<table border=\"1\" class=\"dataframe\">\n",
       "  <thead>\n",
       "    <tr style=\"text-align: right;\">\n",
       "      <th></th>\n",
       "      <th>dateRep</th>\n",
       "      <th>day</th>\n",
       "      <th>month</th>\n",
       "      <th>year</th>\n",
       "      <th>cases</th>\n",
       "      <th>deaths</th>\n",
       "      <th>countriesAndTerritories</th>\n",
       "      <th>countryterritoryCode</th>\n",
       "      <th>popData2019</th>\n",
       "      <th>continentExp</th>\n",
       "    </tr>\n",
       "  </thead>\n",
       "  <tbody>\n",
       "    <tr>\n",
       "      <th>0</th>\n",
       "      <td>14/12/2020</td>\n",
       "      <td>14</td>\n",
       "      <td>12</td>\n",
       "      <td>2020</td>\n",
       "      <td>746</td>\n",
       "      <td>6</td>\n",
       "      <td>Afghanistan</td>\n",
       "      <td>AFG</td>\n",
       "      <td>38041757.0</td>\n",
       "      <td>Asia</td>\n",
       "    </tr>\n",
       "    <tr>\n",
       "      <th>1</th>\n",
       "      <td>13/12/2020</td>\n",
       "      <td>13</td>\n",
       "      <td>12</td>\n",
       "      <td>2020</td>\n",
       "      <td>298</td>\n",
       "      <td>9</td>\n",
       "      <td>Afghanistan</td>\n",
       "      <td>AFG</td>\n",
       "      <td>38041757.0</td>\n",
       "      <td>Asia</td>\n",
       "    </tr>\n",
       "    <tr>\n",
       "      <th>2</th>\n",
       "      <td>12/12/2020</td>\n",
       "      <td>12</td>\n",
       "      <td>12</td>\n",
       "      <td>2020</td>\n",
       "      <td>113</td>\n",
       "      <td>11</td>\n",
       "      <td>Afghanistan</td>\n",
       "      <td>AFG</td>\n",
       "      <td>38041757.0</td>\n",
       "      <td>Asia</td>\n",
       "    </tr>\n",
       "    <tr>\n",
       "      <th>3</th>\n",
       "      <td>12/12/2020</td>\n",
       "      <td>12</td>\n",
       "      <td>12</td>\n",
       "      <td>2020</td>\n",
       "      <td>113</td>\n",
       "      <td>11</td>\n",
       "      <td>Afghanistan</td>\n",
       "      <td>AFG</td>\n",
       "      <td>38041757.0</td>\n",
       "      <td>Asia</td>\n",
       "    </tr>\n",
       "    <tr>\n",
       "      <th>4</th>\n",
       "      <td>11/12/2020</td>\n",
       "      <td>11</td>\n",
       "      <td>12</td>\n",
       "      <td>2020</td>\n",
       "      <td>63</td>\n",
       "      <td>10</td>\n",
       "      <td>Afghanistan</td>\n",
       "      <td>AFG</td>\n",
       "      <td>38041757.0</td>\n",
       "      <td>Asia</td>\n",
       "    </tr>\n",
       "    <tr>\n",
       "      <th>...</th>\n",
       "      <td>...</td>\n",
       "      <td>...</td>\n",
       "      <td>...</td>\n",
       "      <td>...</td>\n",
       "      <td>...</td>\n",
       "      <td>...</td>\n",
       "      <td>...</td>\n",
       "      <td>...</td>\n",
       "      <td>...</td>\n",
       "      <td>...</td>\n",
       "    </tr>\n",
       "    <tr>\n",
       "      <th>61899</th>\n",
       "      <td>25/03/2020</td>\n",
       "      <td>25</td>\n",
       "      <td>3</td>\n",
       "      <td>2020</td>\n",
       "      <td>0</td>\n",
       "      <td>0</td>\n",
       "      <td>Zimbabwe</td>\n",
       "      <td>ZWE</td>\n",
       "      <td>14645473.0</td>\n",
       "      <td>Africa</td>\n",
       "    </tr>\n",
       "    <tr>\n",
       "      <th>61900</th>\n",
       "      <td>24/03/2020</td>\n",
       "      <td>24</td>\n",
       "      <td>3</td>\n",
       "      <td>2020</td>\n",
       "      <td>0</td>\n",
       "      <td>1</td>\n",
       "      <td>Zimbabwe</td>\n",
       "      <td>ZWE</td>\n",
       "      <td>14645473.0</td>\n",
       "      <td>Africa</td>\n",
       "    </tr>\n",
       "    <tr>\n",
       "      <th>61901</th>\n",
       "      <td>23/03/2020</td>\n",
       "      <td>23</td>\n",
       "      <td>3</td>\n",
       "      <td>2020</td>\n",
       "      <td>0</td>\n",
       "      <td>0</td>\n",
       "      <td>Zimbabwe</td>\n",
       "      <td>ZWE</td>\n",
       "      <td>14645473.0</td>\n",
       "      <td>Africa</td>\n",
       "    </tr>\n",
       "    <tr>\n",
       "      <th>61902</th>\n",
       "      <td>22/03/2020</td>\n",
       "      <td>22</td>\n",
       "      <td>3</td>\n",
       "      <td>2020</td>\n",
       "      <td>1</td>\n",
       "      <td>0</td>\n",
       "      <td>Zimbabwe</td>\n",
       "      <td>ZWE</td>\n",
       "      <td>14645473.0</td>\n",
       "      <td>Africa</td>\n",
       "    </tr>\n",
       "    <tr>\n",
       "      <th>61903</th>\n",
       "      <td>21/03/2020</td>\n",
       "      <td>21</td>\n",
       "      <td>3</td>\n",
       "      <td>2020</td>\n",
       "      <td>1</td>\n",
       "      <td>0</td>\n",
       "      <td>Zimbabwe</td>\n",
       "      <td>ZWE</td>\n",
       "      <td>14645473.0</td>\n",
       "      <td>Africa</td>\n",
       "    </tr>\n",
       "  </tbody>\n",
       "</table>\n",
       "<p>61904 rows × 10 columns</p>\n",
       "</div>"
      ],
      "text/plain": [
       "          dateRep  day  month  year  cases  deaths countriesAndTerritories  \\\n",
       "0      14/12/2020   14     12  2020    746       6             Afghanistan   \n",
       "1      13/12/2020   13     12  2020    298       9             Afghanistan   \n",
       "2      12/12/2020   12     12  2020    113      11             Afghanistan   \n",
       "3      12/12/2020   12     12  2020    113      11             Afghanistan   \n",
       "4      11/12/2020   11     12  2020     63      10             Afghanistan   \n",
       "...           ...  ...    ...   ...    ...     ...                     ...   \n",
       "61899  25/03/2020   25      3  2020      0       0                Zimbabwe   \n",
       "61900  24/03/2020   24      3  2020      0       1                Zimbabwe   \n",
       "61901  23/03/2020   23      3  2020      0       0                Zimbabwe   \n",
       "61902  22/03/2020   22      3  2020      1       0                Zimbabwe   \n",
       "61903  21/03/2020   21      3  2020      1       0                Zimbabwe   \n",
       "\n",
       "      countryterritoryCode  popData2019 continentExp  \n",
       "0                      AFG   38041757.0         Asia  \n",
       "1                      AFG   38041757.0         Asia  \n",
       "2                      AFG   38041757.0         Asia  \n",
       "3                      AFG   38041757.0         Asia  \n",
       "4                      AFG   38041757.0         Asia  \n",
       "...                    ...          ...          ...  \n",
       "61899                  ZWE   14645473.0       Africa  \n",
       "61900                  ZWE   14645473.0       Africa  \n",
       "61901                  ZWE   14645473.0       Africa  \n",
       "61902                  ZWE   14645473.0       Africa  \n",
       "61903                  ZWE   14645473.0       Africa  \n",
       "\n",
       "[61904 rows x 10 columns]"
      ]
     },
     "execution_count": 4,
     "metadata": {},
     "output_type": "execute_result"
    }
   ],
   "source": [
    "df"
   ]
  },
  {
   "cell_type": "code",
   "execution_count": 5,
   "id": "b34fa6d3",
   "metadata": {},
   "outputs": [
    {
     "name": "stdout",
     "output_type": "stream",
     "text": [
      "                day         month          year          cases        deaths  \\\n",
      "count  61904.000000  61904.000000  61904.000000   61904.000000  61904.000000   \n",
      "mean      15.629232      7.067104   2019.998918    1155.079026     26.053987   \n",
      "std        8.841624      2.954816      0.032881    6779.010824    131.222948   \n",
      "min        1.000000      1.000000   2019.000000   -8261.000000  -1918.000000   \n",
      "25%        8.000000      5.000000   2020.000000       0.000000      0.000000   \n",
      "50%       15.000000      7.000000   2020.000000      15.000000      0.000000   \n",
      "75%       23.000000     10.000000   2020.000000     273.000000      4.000000   \n",
      "max       31.000000     12.000000   2020.000000  234633.000000   4928.000000   \n",
      "\n",
      "        popData2019  \n",
      "count  6.190400e+04  \n",
      "mean   4.091909e+07  \n",
      "std    1.529798e+08  \n",
      "min    8.150000e+02  \n",
      "25%    1.324820e+06  \n",
      "50%    7.169456e+06  \n",
      "75%    2.851583e+07  \n",
      "max    1.433784e+09  \n"
     ]
    }
   ],
   "source": [
    "print(df.describe())"
   ]
  },
  {
   "cell_type": "code",
   "execution_count": 7,
   "id": "fa36a857",
   "metadata": {
    "scrolled": false
   },
   "outputs": [
    {
     "data": {
      "image/png": "[encoded data removed]",
      "text/plain": [
       "<Figure size 600x700 with 1 Axes>"
      ]
     },
     "metadata": {
      "needs_background": "light"
     },
     "output_type": "display_data"
    },
    {
     "data": {
      "image/png": "[encoded data removed]",
      "text/plain": [
       "<Figure size 600x700 with 1 Axes>"
      ]
     },
     "metadata": {
      "needs_background": "light"
     },
     "output_type": "display_data"
    },
    {
     "data": {
      "image/png": "[encoded data removed]",
      "text/plain": [
       "<Figure size 600x700 with 1 Axes>"
      ]
     },
     "metadata": {
      "needs_background": "light"
     },
     "output_type": "display_data"
    },
    {
     "data": {
      "image/png": "[encoded data removed]",
      "text/plain": [
       "<Figure size 600x700 with 1 Axes>"
      ]
     },
     "metadata": {
      "needs_background": "light"
     },
     "output_type": "display_data"
    },
    {
     "data": {
      "image/png": "[encoded data removed]",
      "text/plain": [
       "<Figure size 600x700 with 1 Axes>"
      ]
     },
     "metadata": {
      "needs_background": "light"
     },
     "output_type": "display_data"
    },
    {
     "data": {
      "image/png": "[encoded data removed]",
      "text/plain": [
       "<Figure size 600x700 with 1 Axes>"
      ]
     },
     "metadata": {
      "needs_background": "light"
     },
     "output_type": "display_data"
    }
   ],
   "source": [
    "df5 = df.select_dtypes(include=['int64', 'float64'])\n",
    "for column in df5.columns:\n",
    "    f= plt.figure(figsize=(6,7), dpi = 100)\n",
    "    sns.boxplot(data = df5[column], linewidth = 1.5, saturation =1)\n",
    "    plt.xlabel(column, fontsize = 16)\n",
    "    plt.grid()\n",
    "    plt.show()"
   ]
  },
  {
   "cell_type": "markdown",
   "id": "6e30e56a",
   "metadata": {},
   "source": [
    "Day и month, очевидно, выбросов не содержат. Boxplot year показывает, что большинство показаний – из 2020 года, и меньшинство – из 2019.  Графики для cases  и deaths, показывают, что 75% данных не переходят границу Q3, но наибольшие значения лежат выше этой границы. Так же в boxplot deaths есть отрицательные выбросы. Boxplot popData2019 показывает наличие множества выбросов за верхней границей."
   ]
  },
  {
   "cell_type": "code",
   "execution_count": 8,
   "id": "50b33f46",
   "metadata": {},
   "outputs": [
    {
     "name": "stdout",
     "output_type": "stream",
     "text": [
      "Страны с количеством смертей в день больше 3000 : \n",
      "United_States_of_America    6\n",
      "Peru                        2\n",
      "Argentina                   1\n",
      "Ecuador                     1\n",
      "Mexico                      1\n",
      "Name: countriesAndTerritories, dtype: int64\n",
      "Количество дней : 11\n"
     ]
    }
   ],
   "source": [
    "df1 = df.loc[(df.deaths > 3000)]\n",
    "\n",
    "print('Страны с количеством смертей в день больше 3000 : ')\n",
    "print( df1.countriesAndTerritories.value_counts())\n",
    "print('Количество дней :', len(df1))\n"
   ]
  },
  {
   "cell_type": "markdown",
   "id": "f6af7630",
   "metadata": {},
   "source": [
    "Найти дублирование данных. Удалить дубликаты"
   ]
  },
  {
   "cell_type": "code",
   "execution_count": 9,
   "id": "adebea55",
   "metadata": {},
   "outputs": [
    {
     "data": {
      "text/html": [
       "<div>\n",
       "<style scoped>\n",
       "    .dataframe tbody tr th:only-of-type {\n",
       "        vertical-align: middle;\n",
       "    }\n",
       "\n",
       "    .dataframe tbody tr th {\n",
       "        vertical-align: top;\n",
       "    }\n",
       "\n",
       "    .dataframe thead th {\n",
       "        text-align: right;\n",
       "    }\n",
       "</style>\n",
       "<table border=\"1\" class=\"dataframe\">\n",
       "  <thead>\n",
       "    <tr style=\"text-align: right;\">\n",
       "      <th></th>\n",
       "      <th>dateRep</th>\n",
       "      <th>day</th>\n",
       "      <th>month</th>\n",
       "      <th>year</th>\n",
       "      <th>cases</th>\n",
       "      <th>deaths</th>\n",
       "      <th>countriesAndTerritories</th>\n",
       "      <th>countryterritoryCode</th>\n",
       "      <th>popData2019</th>\n",
       "      <th>continentExp</th>\n",
       "    </tr>\n",
       "  </thead>\n",
       "  <tbody>\n",
       "    <tr>\n",
       "      <th>0</th>\n",
       "      <td>14/12/2020</td>\n",
       "      <td>14</td>\n",
       "      <td>12</td>\n",
       "      <td>2020</td>\n",
       "      <td>746</td>\n",
       "      <td>6</td>\n",
       "      <td>Afghanistan</td>\n",
       "      <td>AFG</td>\n",
       "      <td>38041757.0</td>\n",
       "      <td>Asia</td>\n",
       "    </tr>\n",
       "    <tr>\n",
       "      <th>1</th>\n",
       "      <td>13/12/2020</td>\n",
       "      <td>13</td>\n",
       "      <td>12</td>\n",
       "      <td>2020</td>\n",
       "      <td>298</td>\n",
       "      <td>9</td>\n",
       "      <td>Afghanistan</td>\n",
       "      <td>AFG</td>\n",
       "      <td>38041757.0</td>\n",
       "      <td>Asia</td>\n",
       "    </tr>\n",
       "    <tr>\n",
       "      <th>2</th>\n",
       "      <td>12/12/2020</td>\n",
       "      <td>12</td>\n",
       "      <td>12</td>\n",
       "      <td>2020</td>\n",
       "      <td>113</td>\n",
       "      <td>11</td>\n",
       "      <td>Afghanistan</td>\n",
       "      <td>AFG</td>\n",
       "      <td>38041757.0</td>\n",
       "      <td>Asia</td>\n",
       "    </tr>\n",
       "    <tr>\n",
       "      <th>4</th>\n",
       "      <td>11/12/2020</td>\n",
       "      <td>11</td>\n",
       "      <td>12</td>\n",
       "      <td>2020</td>\n",
       "      <td>63</td>\n",
       "      <td>10</td>\n",
       "      <td>Afghanistan</td>\n",
       "      <td>AFG</td>\n",
       "      <td>38041757.0</td>\n",
       "      <td>Asia</td>\n",
       "    </tr>\n",
       "    <tr>\n",
       "      <th>5</th>\n",
       "      <td>10/12/2020</td>\n",
       "      <td>10</td>\n",
       "      <td>12</td>\n",
       "      <td>2020</td>\n",
       "      <td>202</td>\n",
       "      <td>16</td>\n",
       "      <td>Afghanistan</td>\n",
       "      <td>AFG</td>\n",
       "      <td>38041757.0</td>\n",
       "      <td>Asia</td>\n",
       "    </tr>\n",
       "    <tr>\n",
       "      <th>...</th>\n",
       "      <td>...</td>\n",
       "      <td>...</td>\n",
       "      <td>...</td>\n",
       "      <td>...</td>\n",
       "      <td>...</td>\n",
       "      <td>...</td>\n",
       "      <td>...</td>\n",
       "      <td>...</td>\n",
       "      <td>...</td>\n",
       "      <td>...</td>\n",
       "    </tr>\n",
       "    <tr>\n",
       "      <th>61899</th>\n",
       "      <td>25/03/2020</td>\n",
       "      <td>25</td>\n",
       "      <td>3</td>\n",
       "      <td>2020</td>\n",
       "      <td>0</td>\n",
       "      <td>0</td>\n",
       "      <td>Zimbabwe</td>\n",
       "      <td>ZWE</td>\n",
       "      <td>14645473.0</td>\n",
       "      <td>Africa</td>\n",
       "    </tr>\n",
       "    <tr>\n",
       "      <th>61900</th>\n",
       "      <td>24/03/2020</td>\n",
       "      <td>24</td>\n",
       "      <td>3</td>\n",
       "      <td>2020</td>\n",
       "      <td>0</td>\n",
       "      <td>1</td>\n",
       "      <td>Zimbabwe</td>\n",
       "      <td>ZWE</td>\n",
       "      <td>14645473.0</td>\n",
       "      <td>Africa</td>\n",
       "    </tr>\n",
       "    <tr>\n",
       "      <th>61901</th>\n",
       "      <td>23/03/2020</td>\n",
       "      <td>23</td>\n",
       "      <td>3</td>\n",
       "      <td>2020</td>\n",
       "      <td>0</td>\n",
       "      <td>0</td>\n",
       "      <td>Zimbabwe</td>\n",
       "      <td>ZWE</td>\n",
       "      <td>14645473.0</td>\n",
       "      <td>Africa</td>\n",
       "    </tr>\n",
       "    <tr>\n",
       "      <th>61902</th>\n",
       "      <td>22/03/2020</td>\n",
       "      <td>22</td>\n",
       "      <td>3</td>\n",
       "      <td>2020</td>\n",
       "      <td>1</td>\n",
       "      <td>0</td>\n",
       "      <td>Zimbabwe</td>\n",
       "      <td>ZWE</td>\n",
       "      <td>14645473.0</td>\n",
       "      <td>Africa</td>\n",
       "    </tr>\n",
       "    <tr>\n",
       "      <th>61903</th>\n",
       "      <td>21/03/2020</td>\n",
       "      <td>21</td>\n",
       "      <td>3</td>\n",
       "      <td>2020</td>\n",
       "      <td>1</td>\n",
       "      <td>0</td>\n",
       "      <td>Zimbabwe</td>\n",
       "      <td>ZWE</td>\n",
       "      <td>14645473.0</td>\n",
       "      <td>Africa</td>\n",
       "    </tr>\n",
       "  </tbody>\n",
       "</table>\n",
       "<p>61900 rows × 10 columns</p>\n",
       "</div>"
      ],
      "text/plain": [
       "          dateRep  day  month  year  cases  deaths countriesAndTerritories  \\\n",
       "0      14/12/2020   14     12  2020    746       6             Afghanistan   \n",
       "1      13/12/2020   13     12  2020    298       9             Afghanistan   \n",
       "2      12/12/2020   12     12  2020    113      11             Afghanistan   \n",
       "4      11/12/2020   11     12  2020     63      10             Afghanistan   \n",
       "5      10/12/2020   10     12  2020    202      16             Afghanistan   \n",
       "...           ...  ...    ...   ...    ...     ...                     ...   \n",
       "61899  25/03/2020   25      3  2020      0       0                Zimbabwe   \n",
       "61900  24/03/2020   24      3  2020      0       1                Zimbabwe   \n",
       "61901  23/03/2020   23      3  2020      0       0                Zimbabwe   \n",
       "61902  22/03/2020   22      3  2020      1       0                Zimbabwe   \n",
       "61903  21/03/2020   21      3  2020      1       0                Zimbabwe   \n",
       "\n",
       "      countryterritoryCode  popData2019 continentExp  \n",
       "0                      AFG   38041757.0         Asia  \n",
       "1                      AFG   38041757.0         Asia  \n",
       "2                      AFG   38041757.0         Asia  \n",
       "4                      AFG   38041757.0         Asia  \n",
       "5                      AFG   38041757.0         Asia  \n",
       "...                    ...          ...          ...  \n",
       "61899                  ZWE   14645473.0       Africa  \n",
       "61900                  ZWE   14645473.0       Africa  \n",
       "61901                  ZWE   14645473.0       Africa  \n",
       "61902                  ZWE   14645473.0       Africa  \n",
       "61903                  ZWE   14645473.0       Africa  \n",
       "\n",
       "[61900 rows x 10 columns]"
      ]
     },
     "execution_count": 9,
     "metadata": {},
     "output_type": "execute_result"
    }
   ],
   "source": [
    "df.drop_duplicates()"
   ]
  },
  {
   "cell_type": "markdown",
   "id": "7801d22e",
   "metadata": {},
   "source": [
    "Загрузить данные из файла “ bmi.csv”. Взять оттуда две выборки. \n",
    "Одна выборка – это индекс массы тела людей c региона northwest, \n",
    "вторая выборка –это индекс массы тела людей с региона southwest. \n",
    "Сравнить средние значения этих выборок, используя t-критерий Стьюдента. \n",
    "Предварительно проверить выборки на нормальность (критерий Шопиро-Уилка) и на\n",
    "гомогенность дисперсии (критерий Бартлетта)."
   ]
  },
  {
   "cell_type": "code",
   "execution_count": 21,
   "id": "e0561bcd",
   "metadata": {},
   "outputs": [
    {
     "name": "stdout",
     "output_type": "stream",
     "text": [
      "Тест Шапиро-Уилка:  ShapiroResult(statistic=0.9954643249511719, pvalue=0.46545225381851196) \n",
      " ShapiroResult(statistic=0.994927167892456, pvalue=0.3630009591579437)\n",
      "Тест Бартлетта:  BartlettResult(statistic=3.4000745256463825, pvalue=0.06519347353580048)\n",
      "т-критерий Стьюдента:  Ttest_indResult(statistic=-3.2844171500398582, pvalue=0.001076958496307695)\n"
     ]
    }
   ],
   "source": [
    "import scipy.stats as sts\n",
    "data2 = pd.read_csv('bmi.csv', sep = ',')\n",
    "df2=pd.DataFrame(data2)\n",
    "s_northwest = df2[df2[\"region\"] == 'northwest'].drop('region', axis=1).squeeze()\n",
    "s_southwest = df2[df2[\"region\"] == 'southwest'].drop('region', axis=1).squeeze()\n",
    "print('Тест Шапиро-Уилка: ',sts.shapiro(s_northwest), '\\n',sts.shapiro(s_southwest) )\n",
    "print('Тест Бартлетта: ', sts.bartlett(s_northwest, s_southwest))\n",
    "print('т-критерий Стьюдента: ', sts.ttest_ind(s_northwest, s_southwest))"
   ]
  },
  {
   "cell_type": "markdown",
   "id": "9babecef",
   "metadata": {},
   "source": [
    "Тест Шапиро-Уилка показывает, что выборки имеют нормальное распределение, а тест Бартлетта с pvalue >0.05 указывает на то, что нет достаточных доказательств того, что эти две группы имеют разные дисперсии. Можем переходить к t критерию Стьюдента. pvalue ниже 0.05, следовательно, нулевая гипотеза о принадлежности групп одной генеральной совокупности отвергается, выборки могут принадлежать к разным генеральным совокупностям, и их средние значения различны."
   ]
  },
  {
   "cell_type": "markdown",
   "id": "c68db9ce",
   "metadata": {},
   "source": [
    "С помощью критерия Хи-квадрат проверить, является ли полученное распределение равномерным.Кубик бросили 600 раз, получили следующие результаты"
   ]
  },
  {
   "cell_type": "code",
   "execution_count": 13,
   "id": "b150ff90",
   "metadata": {},
   "outputs": [
    {
     "name": "stdout",
     "output_type": "stream",
     "text": [
      "Хи-квадрат, равномерность данных:  Power_divergenceResult(statistic=1.44, pvalue=0.9198882077437889)\n"
     ]
    }
   ],
   "source": [
    "data3=pd.DataFrame({'Выпавшие':[97,98,109,95,97,104], 'Ожидаемые': [100]*6})\n",
    "print('Хи-квадрат, равномерность данных: ', sts.chisquare(data3['Выпавшие'], data3['Ожидаемые']))"
   ]
  },
  {
   "cell_type": "markdown",
   "id": "e3dbe3b2",
   "metadata": {},
   "source": [
    "Нулевая гипотеза о равномерности распеделения не отвергается."
   ]
  },
  {
   "cell_type": "markdown",
   "id": "6e2e0450",
   "metadata": {},
   "source": [
    "С помощью критерия Хи-квадрат проверить, влияет ли семейное положение на занятость"
   ]
  },
  {
   "cell_type": "code",
   "execution_count": 27,
   "id": "6fb1be14",
   "metadata": {},
   "outputs": [
    {
     "name": "stdout",
     "output_type": "stream",
     "text": [
      "(122.29654948595365, 1.7291616900960234e-21, 10, array([[74.664, 68.136, 61.2  ],\n",
      "       [30.378, 27.722, 24.9  ],\n",
      "       [24.156, 22.044, 19.8  ],\n",
      "       [30.744, 28.056, 25.2  ],\n",
      "       [13.176, 12.024, 10.8  ],\n",
      "       [ 9.882,  9.018,  8.1  ]]))\n"
     ]
    }
   ],
   "source": [
    "data = pd.DataFrame({'Женат': [89,17,11,43,22,1],\n",
    "                     'Гражданский брак': [80,22,20,35,6,4],\n",
    "                     'Не состоит в отношениях': [35,44,35,6,8,22]})\n",
    "data.index = ['Полный рабочий день','Частичная занятость','Временно не работает','На домохозяйстве','На пенсии','Учёба']\n",
    "print(sts.chi2_contingency(data))"
   ]
  },
  {
   "cell_type": "markdown",
   "id": "057ef709",
   "metadata": {
    "scrolled": false
   },
   "source": [
    "Pvalue очень низкое, следовательно, можно отклонить нулевую гипотезу о независимости данных, и сделать вывод о том, что семейное положение влияет на занятость."
   ]
  },
  {
   "cell_type": "code",
   "execution_count": null,
   "id": "390acc27",
   "metadata": {},
   "outputs": [],
   "source": []
  }
 ],
 "metadata": {
  "kernelspec": {
   "display_name": "Python 3 (ipykernel)",
   "language": "python",
   "name": "python3"
  },
  "language_info": {
   "codemirror_mode": {
    "name": "ipython",
    "version": 3
   },
   "file_extension": ".py",
   "mimetype": "text/x-python",
   "name": "python",
   "nbconvert_exporter": "python",
   "pygments_lexer": "ipython3",
   "version": "3.9.12"
  }
 },
 "nbformat": 4,
 "nbformat_minor": 5
}
