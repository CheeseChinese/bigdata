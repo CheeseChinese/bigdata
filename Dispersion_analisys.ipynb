{
 "cells": [
  {
   "cell_type": "markdown",
   "id": "25830cad",
   "metadata": {},
   "source": [
    "Загрузить данные: 'insurance.csv'. Вывести и провести предобработку. Вывести список уникальных регионов."
   ]
  },
  {
   "cell_type": "code",
   "execution_count": 1,
   "id": "354a834e",
   "metadata": {},
   "outputs": [
    {
     "name": "stdout",
     "output_type": "stream",
     "text": [
      "<class 'pandas.core.frame.DataFrame'>\n",
      "RangeIndex: 1338 entries, 0 to 1337\n",
      "Data columns (total 7 columns):\n",
      " #   Column    Non-Null Count  Dtype  \n",
      "---  ------    --------------  -----  \n",
      " 0   age       1338 non-null   int64  \n",
      " 1   sex       1338 non-null   object \n",
      " 2   bmi       1338 non-null   float64\n",
      " 3   children  1338 non-null   int64  \n",
      " 4   smoker    1338 non-null   object \n",
      " 5   region    1338 non-null   object \n",
      " 6   charges   1338 non-null   float64\n",
      "dtypes: float64(2), int64(2), object(3)\n",
      "memory usage: 73.3+ KB\n"
     ]
    }
   ],
   "source": [
    "import pandas as pd\n",
    "data = pd.read_csv('insurancee.csv', sep=',')\n",
    "df = pd.DataFrame(data)\n",
    "df.info()"
   ]
  },
  {
   "cell_type": "code",
   "execution_count": 2,
   "id": "a1d792c9",
   "metadata": {},
   "outputs": [
    {
     "data": {
      "text/html": [
       "<div>\n",
       "<style scoped>\n",
       "    .dataframe tbody tr th:only-of-type {\n",
       "        vertical-align: middle;\n",
       "    }\n",
       "\n",
       "    .dataframe tbody tr th {\n",
       "        vertical-align: top;\n",
       "    }\n",
       "\n",
       "    .dataframe thead th {\n",
       "        text-align: right;\n",
       "    }\n",
       "</style>\n",
       "<table border=\"1\" class=\"dataframe\">\n",
       "  <thead>\n",
       "    <tr style=\"text-align: right;\">\n",
       "      <th></th>\n",
       "      <th>age</th>\n",
       "      <th>bmi</th>\n",
       "      <th>children</th>\n",
       "      <th>charges</th>\n",
       "    </tr>\n",
       "  </thead>\n",
       "  <tbody>\n",
       "    <tr>\n",
       "      <th>count</th>\n",
       "      <td>1338.000000</td>\n",
       "      <td>1338.000000</td>\n",
       "      <td>1338.000000</td>\n",
       "      <td>1338.000000</td>\n",
       "    </tr>\n",
       "    <tr>\n",
       "      <th>mean</th>\n",
       "      <td>39.207025</td>\n",
       "      <td>30.663397</td>\n",
       "      <td>1.094918</td>\n",
       "      <td>13270.422265</td>\n",
       "    </tr>\n",
       "    <tr>\n",
       "      <th>std</th>\n",
       "      <td>14.049960</td>\n",
       "      <td>6.098187</td>\n",
       "      <td>1.205493</td>\n",
       "      <td>12110.011237</td>\n",
       "    </tr>\n",
       "    <tr>\n",
       "      <th>min</th>\n",
       "      <td>18.000000</td>\n",
       "      <td>15.960000</td>\n",
       "      <td>0.000000</td>\n",
       "      <td>1121.873900</td>\n",
       "    </tr>\n",
       "    <tr>\n",
       "      <th>25%</th>\n",
       "      <td>27.000000</td>\n",
       "      <td>26.296250</td>\n",
       "      <td>0.000000</td>\n",
       "      <td>4740.287150</td>\n",
       "    </tr>\n",
       "    <tr>\n",
       "      <th>50%</th>\n",
       "      <td>39.000000</td>\n",
       "      <td>30.400000</td>\n",
       "      <td>1.000000</td>\n",
       "      <td>9382.033000</td>\n",
       "    </tr>\n",
       "    <tr>\n",
       "      <th>75%</th>\n",
       "      <td>51.000000</td>\n",
       "      <td>34.693750</td>\n",
       "      <td>2.000000</td>\n",
       "      <td>16639.912515</td>\n",
       "    </tr>\n",
       "    <tr>\n",
       "      <th>max</th>\n",
       "      <td>64.000000</td>\n",
       "      <td>53.130000</td>\n",
       "      <td>5.000000</td>\n",
       "      <td>63770.428010</td>\n",
       "    </tr>\n",
       "  </tbody>\n",
       "</table>\n",
       "</div>"
      ],
      "text/plain": [
       "               age          bmi     children       charges\n",
       "count  1338.000000  1338.000000  1338.000000   1338.000000\n",
       "mean     39.207025    30.663397     1.094918  13270.422265\n",
       "std      14.049960     6.098187     1.205493  12110.011237\n",
       "min      18.000000    15.960000     0.000000   1121.873900\n",
       "25%      27.000000    26.296250     0.000000   4740.287150\n",
       "50%      39.000000    30.400000     1.000000   9382.033000\n",
       "75%      51.000000    34.693750     2.000000  16639.912515\n",
       "max      64.000000    53.130000     5.000000  63770.428010"
      ]
     },
     "execution_count": 2,
     "metadata": {},
     "output_type": "execute_result"
    }
   ],
   "source": [
    "df.describe()"
   ]
  },
  {
   "cell_type": "markdown",
   "id": "7baa476a",
   "metadata": {},
   "source": [
    "Проверим, как выглядят вещественные столбцы в таблице.\n",
    "Количество знаков после запятой разное, приведем их к однородному виду, округлив до 3 знаков после запятой. "
   ]
  },
  {
   "cell_type": "code",
   "execution_count": 3,
   "id": "00996c14",
   "metadata": {},
   "outputs": [
    {
     "name": "stdout",
     "output_type": "stream",
     "text": [
      "[16884.924   1725.5523  4449.462  ...  1629.8335  2007.945  29141.3603]\n"
     ]
    }
   ],
   "source": [
    "print(df.charges.unique())"
   ]
  },
  {
   "cell_type": "code",
   "execution_count": 4,
   "id": "9dd2dd0b",
   "metadata": {},
   "outputs": [
    {
     "name": "stdout",
     "output_type": "stream",
     "text": [
      "[27.9   33.77  33.    22.705 28.88  25.74  33.44  27.74  29.83  25.84\n",
      " 26.22  26.29  34.4   39.82  42.13  24.6   30.78  23.845 40.3   35.3\n",
      " 36.005 32.4   34.1   31.92  28.025 27.72  23.085 32.775 17.385 36.3\n",
      " 35.6   26.315 28.6   28.31  36.4   20.425 32.965 20.8   36.67  39.9\n",
      " 26.6   36.63  21.78  30.8   37.05  37.3   38.665 34.77  24.53  35.2\n",
      " 35.625 33.63  28.    34.43  28.69  36.955 31.825 31.68  22.88  37.335\n",
      " 27.36  33.66  24.7   25.935 22.42  28.9   39.1   36.19  23.98  24.75\n",
      " 28.5   28.1   32.01  27.4   34.01  29.59  35.53  39.805 26.885 38.285\n",
      " 37.62  41.23  34.8   22.895 31.16  27.2   26.98  39.49  24.795 31.3\n",
      " 38.28  19.95  19.3   31.6   25.46  30.115 29.92  27.5   28.4   30.875\n",
      " 27.94  35.09  29.7   35.72  32.205 28.595 49.06  27.17  23.37  37.1\n",
      " 23.75  28.975 31.35  33.915 28.785 28.3   37.4   17.765 34.7   26.505\n",
      " 22.04  35.9   25.555 28.05  25.175 31.9   36.    32.49  25.3   29.735\n",
      " 38.83  30.495 37.73  37.43  24.13  37.145 39.52  24.42  27.83  36.85\n",
      " 39.6   29.8   29.64  28.215 37.    33.155 18.905 41.47  30.3   15.96\n",
      " 33.345 37.7   27.835 29.2   26.41  30.69  41.895 30.9   32.2   32.11\n",
      " 31.57  26.2   30.59  32.8   18.05  39.33  32.23  24.035 36.08  22.3\n",
      " 26.4   31.8   26.73  23.1   23.21  33.7   33.25  24.64  33.88  38.06\n",
      " 41.91  31.635 36.195 17.8   24.51  22.22  38.39  29.07  22.135 26.8\n",
      " 30.02  35.86  20.9   17.29  34.21  25.365 40.15  24.415 25.2   26.84\n",
      " 24.32  42.35  19.8   32.395 30.2   29.37  34.2   27.455 27.55  20.615\n",
      " 24.3   31.79  21.56  28.12  40.565 27.645 31.2   26.62  48.07  36.765\n",
      " 33.4   45.54  28.82  22.99  27.7   25.41  34.39  22.61  37.51  38.\n",
      " 33.33  34.865 33.06  35.97  31.4   25.27  40.945 34.105 36.48  33.8\n",
      " 36.7   36.385 34.5   32.3   27.6   29.26  35.75  23.18  25.6   35.245\n",
      " 43.89  20.79  30.5   21.7   21.89  24.985 32.015 30.4   21.09  22.23\n",
      " 32.9   24.89  31.46  17.955 30.685 43.34  39.05  30.21  31.445 19.855\n",
      " 31.02  38.17  20.6   47.52  20.4   38.38  24.31  23.6   21.12  30.03\n",
      " 17.48  20.235 17.195 23.9   35.15  35.64  22.6   39.16  27.265 29.165\n",
      " 16.815 33.1   26.9   33.11  31.73  46.75  29.45  32.68  33.5   43.01\n",
      " 36.52  26.695 25.65  29.6   38.6   23.4   46.53  30.14  30.    38.095\n",
      " 28.38  28.7   33.82  24.09  32.67  25.1   32.56  41.325 39.5   34.3\n",
      " 31.065 21.47  25.08  43.4   25.7   27.93  39.2   26.03  30.25  28.93\n",
      " 35.7   35.31  31.    44.22  26.07  25.8   39.425 40.48  38.9   47.41\n",
      " 35.435 46.7   46.2   21.4   23.8   44.77  32.12  29.1   37.29  43.12\n",
      " 36.86  34.295 23.465 45.43  23.65  20.7   28.27  35.91  29.    19.57\n",
      " 31.13  21.85  40.26  33.725 29.48  32.6   37.525 23.655 37.8   19.\n",
      " 21.3   33.535 42.46  38.95  36.1   29.3   39.7   38.19  42.4   34.96\n",
      " 42.68  31.54  29.81  21.375 40.81  17.4   20.3   18.5   26.125 41.69\n",
      " 24.1   36.2   40.185 39.27  34.87  44.745 29.545 23.54  40.47  40.66\n",
      " 36.6   35.4   27.075 28.405 21.755 40.28  30.1   32.1   23.7   35.5\n",
      " 29.15  27.    37.905 22.77  22.8   34.58  27.1   19.475 26.7   34.32\n",
      " 24.4   41.14  22.515 41.8   26.18  42.24  26.51  35.815 41.42  36.575\n",
      " 42.94  21.01  24.225 17.67  31.5   31.1   32.78  32.45  50.38  47.6\n",
      " 25.4   29.9   43.7   24.86  28.8   29.5   29.04  38.94  44.    20.045\n",
      " 40.92  35.1   29.355 32.585 32.34  39.8   24.605 33.99  28.2   25.\n",
      " 33.2   23.2   20.1   32.5   37.18  46.09  39.93  35.8   31.255 18.335\n",
      " 42.9   26.79  39.615 25.9   25.745 28.16  23.56  40.5   35.42  39.995\n",
      " 34.675 20.52  23.275 36.29  32.7   19.19  20.13  23.32  45.32  34.6\n",
      " 18.715 21.565 23.    37.07  52.58  42.655 21.66  32.    18.3   47.74\n",
      " 22.1   19.095 31.24  29.925 20.35  25.85  42.75  18.6   23.87  45.9\n",
      " 21.5   30.305 44.88  41.1   40.37  28.49  33.55  40.375 27.28  17.86\n",
      " 33.3   39.14  21.945 24.97  23.94  34.485 21.8   23.3   36.96  21.28\n",
      " 29.4   27.3   37.9   37.715 23.76  25.52  27.61  27.06  39.4   34.9\n",
      " 22.    30.36  27.8   53.13  39.71  32.87  44.7   30.97 ]\n"
     ]
    }
   ],
   "source": [
    "print(df.bmi.unique())"
   ]
  },
  {
   "cell_type": "code",
   "execution_count": 5,
   "id": "e7611272",
   "metadata": {},
   "outputs": [
    {
     "name": "stdout",
     "output_type": "stream",
     "text": [
      "['yes' 'no']\n"
     ]
    }
   ],
   "source": [
    "print(df.smoker.unique())"
   ]
  },
  {
   "cell_type": "code",
   "execution_count": 6,
   "id": "6b6b68f8",
   "metadata": {
    "scrolled": true
   },
   "outputs": [
    {
     "name": "stdout",
     "output_type": "stream",
     "text": [
      "['southwest' 'southeast' 'northwest' 'northeast']\n"
     ]
    }
   ],
   "source": [
    "print(df.region.unique())"
   ]
  },
  {
   "cell_type": "code",
   "execution_count": 7,
   "id": "7d61a000",
   "metadata": {},
   "outputs": [
    {
     "data": {
      "text/html": [
       "<div>\n",
       "<style scoped>\n",
       "    .dataframe tbody tr th:only-of-type {\n",
       "        vertical-align: middle;\n",
       "    }\n",
       "\n",
       "    .dataframe tbody tr th {\n",
       "        vertical-align: top;\n",
       "    }\n",
       "\n",
       "    .dataframe thead th {\n",
       "        text-align: right;\n",
       "    }\n",
       "</style>\n",
       "<table border=\"1\" class=\"dataframe\">\n",
       "  <thead>\n",
       "    <tr style=\"text-align: right;\">\n",
       "      <th></th>\n",
       "      <th>age</th>\n",
       "      <th>sex</th>\n",
       "      <th>bmi</th>\n",
       "      <th>children</th>\n",
       "      <th>smoker</th>\n",
       "      <th>region</th>\n",
       "      <th>charges</th>\n",
       "    </tr>\n",
       "  </thead>\n",
       "  <tbody>\n",
       "    <tr>\n",
       "      <th>0</th>\n",
       "      <td>19</td>\n",
       "      <td>female</td>\n",
       "      <td>27.900</td>\n",
       "      <td>0</td>\n",
       "      <td>1</td>\n",
       "      <td>southwest</td>\n",
       "      <td>16884.924</td>\n",
       "    </tr>\n",
       "    <tr>\n",
       "      <th>1</th>\n",
       "      <td>18</td>\n",
       "      <td>male</td>\n",
       "      <td>33.770</td>\n",
       "      <td>1</td>\n",
       "      <td>0</td>\n",
       "      <td>southeast</td>\n",
       "      <td>1725.552</td>\n",
       "    </tr>\n",
       "    <tr>\n",
       "      <th>2</th>\n",
       "      <td>28</td>\n",
       "      <td>male</td>\n",
       "      <td>33.000</td>\n",
       "      <td>3</td>\n",
       "      <td>0</td>\n",
       "      <td>southeast</td>\n",
       "      <td>4449.462</td>\n",
       "    </tr>\n",
       "    <tr>\n",
       "      <th>3</th>\n",
       "      <td>33</td>\n",
       "      <td>male</td>\n",
       "      <td>22.705</td>\n",
       "      <td>0</td>\n",
       "      <td>0</td>\n",
       "      <td>northwest</td>\n",
       "      <td>21984.471</td>\n",
       "    </tr>\n",
       "    <tr>\n",
       "      <th>4</th>\n",
       "      <td>32</td>\n",
       "      <td>male</td>\n",
       "      <td>28.880</td>\n",
       "      <td>0</td>\n",
       "      <td>0</td>\n",
       "      <td>northwest</td>\n",
       "      <td>3866.855</td>\n",
       "    </tr>\n",
       "    <tr>\n",
       "      <th>...</th>\n",
       "      <td>...</td>\n",
       "      <td>...</td>\n",
       "      <td>...</td>\n",
       "      <td>...</td>\n",
       "      <td>...</td>\n",
       "      <td>...</td>\n",
       "      <td>...</td>\n",
       "    </tr>\n",
       "    <tr>\n",
       "      <th>1333</th>\n",
       "      <td>50</td>\n",
       "      <td>male</td>\n",
       "      <td>30.970</td>\n",
       "      <td>3</td>\n",
       "      <td>0</td>\n",
       "      <td>northwest</td>\n",
       "      <td>10600.548</td>\n",
       "    </tr>\n",
       "    <tr>\n",
       "      <th>1334</th>\n",
       "      <td>18</td>\n",
       "      <td>female</td>\n",
       "      <td>31.920</td>\n",
       "      <td>0</td>\n",
       "      <td>0</td>\n",
       "      <td>northeast</td>\n",
       "      <td>2205.981</td>\n",
       "    </tr>\n",
       "    <tr>\n",
       "      <th>1335</th>\n",
       "      <td>18</td>\n",
       "      <td>female</td>\n",
       "      <td>36.850</td>\n",
       "      <td>0</td>\n",
       "      <td>0</td>\n",
       "      <td>southeast</td>\n",
       "      <td>1629.834</td>\n",
       "    </tr>\n",
       "    <tr>\n",
       "      <th>1336</th>\n",
       "      <td>21</td>\n",
       "      <td>female</td>\n",
       "      <td>25.800</td>\n",
       "      <td>0</td>\n",
       "      <td>0</td>\n",
       "      <td>southwest</td>\n",
       "      <td>2007.945</td>\n",
       "    </tr>\n",
       "    <tr>\n",
       "      <th>1337</th>\n",
       "      <td>61</td>\n",
       "      <td>female</td>\n",
       "      <td>29.070</td>\n",
       "      <td>0</td>\n",
       "      <td>1</td>\n",
       "      <td>northwest</td>\n",
       "      <td>29141.360</td>\n",
       "    </tr>\n",
       "  </tbody>\n",
       "</table>\n",
       "<p>1338 rows × 7 columns</p>\n",
       "</div>"
      ],
      "text/plain": [
       "      age     sex     bmi  children  smoker     region    charges\n",
       "0      19  female  27.900         0       1  southwest  16884.924\n",
       "1      18    male  33.770         1       0  southeast   1725.552\n",
       "2      28    male  33.000         3       0  southeast   4449.462\n",
       "3      33    male  22.705         0       0  northwest  21984.471\n",
       "4      32    male  28.880         0       0  northwest   3866.855\n",
       "...   ...     ...     ...       ...     ...        ...        ...\n",
       "1333   50    male  30.970         3       0  northwest  10600.548\n",
       "1334   18  female  31.920         0       0  northeast   2205.981\n",
       "1335   18  female  36.850         0       0  southeast   1629.834\n",
       "1336   21  female  25.800         0       0  southwest   2007.945\n",
       "1337   61  female  29.070         0       1  northwest  29141.360\n",
       "\n",
       "[1338 rows x 7 columns]"
      ]
     },
     "execution_count": 7,
     "metadata": {},
     "output_type": "execute_result"
    }
   ],
   "source": [
    "df = df.round({'bmi': 3, 'charges': 3})\n",
    "df['smoker'] =  df['smoker'].apply(lambda x: x.replace('yes', '1').replace('no','0')).astype('int64')\n",
    "df"
   ]
  },
  {
   "cell_type": "code",
   "execution_count": 8,
   "id": "cdd2ce14",
   "metadata": {},
   "outputs": [
    {
     "data": {
      "text/plain": [
       "1"
      ]
     },
     "execution_count": 8,
     "metadata": {},
     "output_type": "execute_result"
    }
   ],
   "source": [
    "df.duplicated().sum()"
   ]
  },
  {
   "cell_type": "code",
   "execution_count": 9,
   "id": "dc922d42",
   "metadata": {},
   "outputs": [
    {
     "name": "stdout",
     "output_type": "stream",
     "text": [
      "0\n",
      "<class 'pandas.core.frame.DataFrame'>\n",
      "RangeIndex: 1337 entries, 0 to 1336\n",
      "Data columns (total 7 columns):\n",
      " #   Column    Non-Null Count  Dtype  \n",
      "---  ------    --------------  -----  \n",
      " 0   age       1337 non-null   int64  \n",
      " 1   sex       1337 non-null   object \n",
      " 2   bmi       1337 non-null   float64\n",
      " 3   children  1337 non-null   int64  \n",
      " 4   smoker    1337 non-null   int64  \n",
      " 5   region    1337 non-null   object \n",
      " 6   charges   1337 non-null   float64\n",
      "dtypes: float64(2), int64(3), object(2)\n",
      "memory usage: 73.2+ KB\n"
     ]
    }
   ],
   "source": [
    "df = df.drop_duplicates(ignore_index = True)\n",
    "print(df.duplicated().sum())\n",
    "df.info()"
   ]
  },
  {
   "cell_type": "code",
   "execution_count": 10,
   "id": "6aa0d9c8",
   "metadata": {
    "scrolled": false
   },
   "outputs": [
    {
     "data": {
      "image/png": "[encoded data removed]",
      "text/plain": [
       "<Figure size 600x700 with 1 Axes>"
      ]
     },
     "metadata": {
      "needs_background": "light"
     },
     "output_type": "display_data"
    },
    {
     "data": {
      "image/png": "[encoded data removed]",
      "text/plain": [
       "<Figure size 600x700 with 1 Axes>"
      ]
     },
     "metadata": {
      "needs_background": "light"
     },
     "output_type": "display_data"
    },
    {
     "data": {
      "image/png": "[encoded data removed]",
      "text/plain": [
       "<Figure size 600x700 with 1 Axes>"
      ]
     },
     "metadata": {
      "needs_background": "light"
     },
     "output_type": "display_data"
    },
    {
     "data": {
      "image/png": "[encoded data removed]",
      "text/plain": [
       "<Figure size 600x700 with 1 Axes>"
      ]
     },
     "metadata": {
      "needs_background": "light"
     },
     "output_type": "display_data"
    },
    {
     "data": {
      "image/png": "[encoded data removed]",
      "text/plain": [
       "<Figure size 600x700 with 1 Axes>"
      ]
     },
     "metadata": {
      "needs_background": "light"
     },
     "output_type": "display_data"
    }
   ],
   "source": [
    "import seaborn as sns\n",
    "import matplotlib.pyplot as plt\n",
    "\n",
    "    \n",
    "\n",
    "df2 = df.select_dtypes(include=['int64','float64'])\n",
    "for column in df2.columns:\n",
    "    plt.figure(figsize=(6,7), dpi = 100)\n",
    "    sns.boxplot(data = df2[column], linewidth = 1.5, saturation =1)\n",
    "    plt.xlabel(column, fontsize = 16)\n",
    "    plt.grid()\n",
    "    plt.show()"
   ]
  },
  {
   "cell_type": "code",
   "execution_count": 11,
   "id": "c0a94c1c",
   "metadata": {
    "scrolled": false
   },
   "outputs": [
    {
     "data": {
      "text/html": [
       "<div>\n",
       "<style scoped>\n",
       "    .dataframe tbody tr th:only-of-type {\n",
       "        vertical-align: middle;\n",
       "    }\n",
       "\n",
       "    .dataframe tbody tr th {\n",
       "        vertical-align: top;\n",
       "    }\n",
       "\n",
       "    .dataframe thead th {\n",
       "        text-align: right;\n",
       "    }\n",
       "</style>\n",
       "<table border=\"1\" class=\"dataframe\">\n",
       "  <thead>\n",
       "    <tr style=\"text-align: right;\">\n",
       "      <th></th>\n",
       "      <th>age</th>\n",
       "      <th>sex</th>\n",
       "      <th>bmi</th>\n",
       "      <th>children</th>\n",
       "      <th>smoker</th>\n",
       "      <th>region</th>\n",
       "      <th>charges</th>\n",
       "    </tr>\n",
       "  </thead>\n",
       "  <tbody>\n",
       "    <tr>\n",
       "      <th>0</th>\n",
       "      <td>19</td>\n",
       "      <td>female</td>\n",
       "      <td>27.900</td>\n",
       "      <td>0</td>\n",
       "      <td>1</td>\n",
       "      <td>southwest</td>\n",
       "      <td>16884.924</td>\n",
       "    </tr>\n",
       "    <tr>\n",
       "      <th>1</th>\n",
       "      <td>18</td>\n",
       "      <td>male</td>\n",
       "      <td>33.770</td>\n",
       "      <td>1</td>\n",
       "      <td>0</td>\n",
       "      <td>southeast</td>\n",
       "      <td>1725.552</td>\n",
       "    </tr>\n",
       "    <tr>\n",
       "      <th>2</th>\n",
       "      <td>28</td>\n",
       "      <td>male</td>\n",
       "      <td>33.000</td>\n",
       "      <td>3</td>\n",
       "      <td>0</td>\n",
       "      <td>southeast</td>\n",
       "      <td>4449.462</td>\n",
       "    </tr>\n",
       "    <tr>\n",
       "      <th>3</th>\n",
       "      <td>33</td>\n",
       "      <td>male</td>\n",
       "      <td>22.705</td>\n",
       "      <td>0</td>\n",
       "      <td>0</td>\n",
       "      <td>northwest</td>\n",
       "      <td>21984.471</td>\n",
       "    </tr>\n",
       "    <tr>\n",
       "      <th>4</th>\n",
       "      <td>32</td>\n",
       "      <td>male</td>\n",
       "      <td>28.880</td>\n",
       "      <td>0</td>\n",
       "      <td>0</td>\n",
       "      <td>northwest</td>\n",
       "      <td>3866.855</td>\n",
       "    </tr>\n",
       "    <tr>\n",
       "      <th>...</th>\n",
       "      <td>...</td>\n",
       "      <td>...</td>\n",
       "      <td>...</td>\n",
       "      <td>...</td>\n",
       "      <td>...</td>\n",
       "      <td>...</td>\n",
       "      <td>...</td>\n",
       "    </tr>\n",
       "    <tr>\n",
       "      <th>1332</th>\n",
       "      <td>50</td>\n",
       "      <td>male</td>\n",
       "      <td>30.970</td>\n",
       "      <td>3</td>\n",
       "      <td>0</td>\n",
       "      <td>northwest</td>\n",
       "      <td>10600.548</td>\n",
       "    </tr>\n",
       "    <tr>\n",
       "      <th>1333</th>\n",
       "      <td>18</td>\n",
       "      <td>female</td>\n",
       "      <td>31.920</td>\n",
       "      <td>0</td>\n",
       "      <td>0</td>\n",
       "      <td>northeast</td>\n",
       "      <td>2205.981</td>\n",
       "    </tr>\n",
       "    <tr>\n",
       "      <th>1334</th>\n",
       "      <td>18</td>\n",
       "      <td>female</td>\n",
       "      <td>36.850</td>\n",
       "      <td>0</td>\n",
       "      <td>0</td>\n",
       "      <td>southeast</td>\n",
       "      <td>1629.834</td>\n",
       "    </tr>\n",
       "    <tr>\n",
       "      <th>1335</th>\n",
       "      <td>21</td>\n",
       "      <td>female</td>\n",
       "      <td>25.800</td>\n",
       "      <td>0</td>\n",
       "      <td>0</td>\n",
       "      <td>southwest</td>\n",
       "      <td>2007.945</td>\n",
       "    </tr>\n",
       "    <tr>\n",
       "      <th>1336</th>\n",
       "      <td>61</td>\n",
       "      <td>female</td>\n",
       "      <td>29.070</td>\n",
       "      <td>0</td>\n",
       "      <td>1</td>\n",
       "      <td>northwest</td>\n",
       "      <td>29141.360</td>\n",
       "    </tr>\n",
       "  </tbody>\n",
       "</table>\n",
       "<p>1337 rows × 7 columns</p>\n",
       "</div>"
      ],
      "text/plain": [
       "      age     sex     bmi  children  smoker     region    charges\n",
       "0      19  female  27.900         0       1  southwest  16884.924\n",
       "1      18    male  33.770         1       0  southeast   1725.552\n",
       "2      28    male  33.000         3       0  southeast   4449.462\n",
       "3      33    male  22.705         0       0  northwest  21984.471\n",
       "4      32    male  28.880         0       0  northwest   3866.855\n",
       "...   ...     ...     ...       ...     ...        ...        ...\n",
       "1332   50    male  30.970         3       0  northwest  10600.548\n",
       "1333   18  female  31.920         0       0  northeast   2205.981\n",
       "1334   18  female  36.850         0       0  southeast   1629.834\n",
       "1335   21  female  25.800         0       0  southwest   2007.945\n",
       "1336   61  female  29.070         0       1  northwest  29141.360\n",
       "\n",
       "[1337 rows x 7 columns]"
      ]
     },
     "execution_count": 11,
     "metadata": {},
     "output_type": "execute_result"
    }
   ],
   "source": [
    "df"
   ]
  },
  {
   "cell_type": "code",
   "execution_count": 15,
   "id": "1fd67266",
   "metadata": {},
   "outputs": [
    {
     "name": "stdout",
     "output_type": "stream",
     "text": [
      "[0.02440588 0.02954074 0.02886717 ... 0.03223501 0.02256888 0.02542936]\n"
     ]
    }
   ],
   "source": [
    "# from sklearn.preprocessing import MinMaxScaler\n",
    "# scaler = MinMaxScaler()\n",
    "# data2 = scaler.fit_transform(df)\n",
    "# data2\n",
    "import numpy as np\n",
    "from sklearn import preprocessing\n",
    "\n",
    "x_array = np.array(df['bmi'])\n",
    "normalized_arr = preprocessing.normalize([x_array]).reshape(-1)\n",
    "\n",
    "print(normalized_arr)"
   ]
  },
  {
   "cell_type": "markdown",
   "id": "d3e06e08",
   "metadata": {},
   "source": [
    "Выполнить однофакторный ANOVA тест, чтобы проверить влияние \n",
    "региона на индекс массы тела (BMI), используя первый способ, через \n",
    "библиотеку Scipy.Нулевая гипотеза обычно говорит о равенстве средних двух групп, альтернативная – о различии средних (двусторонний тест) или различии в определенном направлении (односторонний тест)."
   ]
  },
  {
   "cell_type": "code",
   "execution_count": 18,
   "id": "8e4abbda",
   "metadata": {},
   "outputs": [
    {
     "data": {
      "text/plain": [
       "F_onewayResult(statistic=39.48593864487439, pvalue=1.9087293927440606e-24)"
      ]
     },
     "execution_count": 18,
     "metadata": {},
     "output_type": "execute_result"
    }
   ],
   "source": [
    "import scipy.stats as sts\n",
    "import numpy as np\n",
    "from sklearn import preprocessing as pr\n",
    "\n",
    "x_array = np.array(df['bmi'])\n",
    "normal_bmi = pr.normalize([x_array]).reshape(-1)\n",
    "reg = df['region'].values.reshape(-1)\n",
    "\n",
    "r_fr=pd.DataFrame({\"region\":reg, \"bmi\": normal_bmi})\n",
    "group=r_fr.groupby(\"region\").groups\n",
    "southwest=df.bmi[group[\"southwest\"]]\n",
    "southeast=df.bmi[group[\"southeast\"]]\n",
    "northwest=df.bmi[group[\"northwest\"]]\n",
    "northeast=df.bmi[group[\"northeast\"]]\n",
    "sts.f_oneway(southwest,southeast,northwest,northeast)"
   ]
  },
  {
   "cell_type": "markdown",
   "id": "9f7e44ff",
   "metadata": {},
   "source": [
    "Нулевую гипотезу можно отклонить, следовательно, результат теста говорит о наличии влияния региона на ИМТ."
   ]
  },
  {
   "cell_type": "markdown",
   "id": "8a9faaef",
   "metadata": {},
   "source": [
    "Выполнить однофакторный ANOVA тест, чтобы проверить влияние региона на индекс массы тела (BMI), используя второй способ, с помощью функции anova_lm() из библиотеки statsmodels."
   ]
  },
  {
   "cell_type": "code",
   "execution_count": 19,
   "id": "6c1ccf36",
   "metadata": {
    "scrolled": false
   },
   "outputs": [
    {
     "data": {
      "text/html": [
       "<div>\n",
       "<style scoped>\n",
       "    .dataframe tbody tr th:only-of-type {\n",
       "        vertical-align: middle;\n",
       "    }\n",
       "\n",
       "    .dataframe tbody tr th {\n",
       "        vertical-align: top;\n",
       "    }\n",
       "\n",
       "    .dataframe thead th {\n",
       "        text-align: right;\n",
       "    }\n",
       "</style>\n",
       "<table border=\"1\" class=\"dataframe\">\n",
       "  <thead>\n",
       "    <tr style=\"text-align: right;\">\n",
       "      <th></th>\n",
       "      <th>sum_sq</th>\n",
       "      <th>df</th>\n",
       "      <th>F</th>\n",
       "      <th>PR(&gt;F)</th>\n",
       "    </tr>\n",
       "  </thead>\n",
       "  <tbody>\n",
       "    <tr>\n",
       "      <th>region</th>\n",
       "      <td>0.003105</td>\n",
       "      <td>3.0</td>\n",
       "      <td>39.485939</td>\n",
       "      <td>1.908729e-24</td>\n",
       "    </tr>\n",
       "    <tr>\n",
       "      <th>Residual</th>\n",
       "      <td>0.034941</td>\n",
       "      <td>1333.0</td>\n",
       "      <td>NaN</td>\n",
       "      <td>NaN</td>\n",
       "    </tr>\n",
       "  </tbody>\n",
       "</table>\n",
       "</div>"
      ],
      "text/plain": [
       "            sum_sq      df          F        PR(>F)\n",
       "region    0.003105     3.0  39.485939  1.908729e-24\n",
       "Residual  0.034941  1333.0        NaN           NaN"
      ]
     },
     "execution_count": 19,
     "metadata": {},
     "output_type": "execute_result"
    }
   ],
   "source": [
    "import statsmodels.api as sm\n",
    "from statsmodels.formula.api import ols\n",
    "model = ols('bmi ~ region', data = r_fr).fit()\n",
    "result = sm.stats.anova_lm(model, typ = 2)\n",
    "result"
   ]
  },
  {
   "cell_type": "markdown",
   "id": "d786f6c8",
   "metadata": {},
   "source": [
    "С помощью t критерия Стьюдента перебрать все пары. Определить поправку Бонферрони.\n",
    "Можно использовать t критерий Стьюдента для всех пар регионов, но такой метод при большом разнообразии групп может дать слишком большую ошибку. Метод Бонферрони является одним из наиболее простых и известных способов контроля над групповой вероятностью ошибки.\n",
    "Вместо деления изначально принятого уровня значимости на число проверяемых гипотез, можно умножить каждое из исходных Р-значений на это число, затем сравним такие скорректированные с α=0.05."
   ]
  },
  {
   "cell_type": "code",
   "execution_count": 21,
   "id": "d312d1bb",
   "metadata": {},
   "outputs": [
    {
     "name": "stdout",
     "output_type": "stream",
     "text": [
      "southwest southeast\n",
      "5.437400963968064e-09 отклоняется\n",
      "southwest northwest\n",
      "0.0010577505931067947 отклоняется\n",
      "southwest northeast\n",
      "0.0019086161671573072 отклоняется\n",
      "southeast northwest\n",
      "2.7504255547794223e-19 отклоняется\n",
      "southeast northeast\n",
      "1.186014937424813e-17 отклоняется\n",
      "northwest northeast\n",
      "0.9598300701853016 принимается\n"
     ]
    }
   ],
   "source": [
    "from math import factorial\n",
    "region_pairs=[]\n",
    "regions = df.region.unique()\n",
    "pairs = factorial(len(df.region.unique()))/ (factorial(len(df.region.unique()) - 2) * factorial(2))\n",
    "for i in range (3):\n",
    "    for j in range (i+1, 4):\n",
    "        region_pairs.append((regions[i], regions[j]))\n",
    "for i,j in  region_pairs:\n",
    "    print(i,j)\n",
    "    aa=sts.ttest_ind(df.bmi[group[i]], df.bmi[group[j]]).pvalue*pairs\n",
    "    if (aa > 0.05):\n",
    "        print (aa/6, \"принимается\")\n",
    "    else:\n",
    "        print (aa/6, \"отклоняется\")"
   ]
  },
  {
   "cell_type": "markdown",
   "id": "70062371",
   "metadata": {},
   "source": [
    "Видим, что различия в ИМТ есть у следующих пар регионов: southwest-southeast, southwest-northwest, southwest-northeast, southeast-northwest и southeast-northeast. Эти результаты говорят о том, что ИМТ всех пересечений регионов, кроме северных, имеет отличие от остальных."
   ]
  },
  {
   "cell_type": "markdown",
   "id": "2e52d0af",
   "metadata": {},
   "source": [
    "Выполнить пост-хок тесты Тьюки и построить график.\n",
    "Пост-хок тесты предназначены для решения задачи определения различий между группами изучаемого фактора, которые оказывают значимое влияние на данные."
   ]
  },
  {
   "cell_type": "code",
   "execution_count": 17,
   "id": "8bcaed56",
   "metadata": {},
   "outputs": [
    {
     "data": {
      "text/html": [
       "<table class=\"simpletable\">\n",
       "<caption>Multiple Comparison of Means - Tukey HSD, FWER=0.05</caption>\n",
       "<tr>\n",
       "   <th>group1</th>    <th>group2</th>   <th>meandiff</th>  <th>p-adj</th>  <th>lower</th>   <th>upper</th>  <th>reject</th>\n",
       "</tr>\n",
       "<tr>\n",
       "  <td>northeast</td> <td>northwest</td>    <td>0.0</td>     <td>1.0</td>  <td>-0.001</td>  <td>0.0011</td>   <td>False</td>\n",
       "</tr>\n",
       "<tr>\n",
       "  <td>northeast</td> <td>southeast</td>  <td>0.0037</td>   <td>-0.0</td>  <td>0.0027</td>  <td>0.0047</td>   <td>True</td> \n",
       "</tr>\n",
       "<tr>\n",
       "  <td>northeast</td> <td>southwest</td>  <td>0.0012</td>  <td>0.0107</td> <td>0.0002</td>  <td>0.0023</td>   <td>True</td> \n",
       "</tr>\n",
       "<tr>\n",
       "  <td>northwest</td> <td>southeast</td>  <td>0.0036</td>   <td>-0.0</td>  <td>0.0026</td>  <td>0.0046</td>   <td>True</td> \n",
       "</tr>\n",
       "<tr>\n",
       "  <td>northwest</td> <td>southwest</td>  <td>0.0012</td>  <td>0.0125</td> <td>0.0002</td>  <td>0.0023</td>   <td>True</td> \n",
       "</tr>\n",
       "<tr>\n",
       "  <td>southeast</td> <td>southwest</td>  <td>-0.0024</td>   <td>0.0</td>  <td>-0.0034</td> <td>-0.0014</td>  <td>True</td> \n",
       "</tr>\n",
       "</table>"
      ],
      "text/plain": [
       "<class 'statsmodels.iolib.table.SimpleTable'>"
      ]
     },
     "execution_count": 17,
     "metadata": {},
     "output_type": "execute_result"
    },
    {
     "data": {
      "image/png": "[encoded data removed]",
      "text/plain": [
       "<Figure size 720x432 with 1 Axes>"
      ]
     },
     "metadata": {
      "needs_background": "light"
     },
     "output_type": "display_data"
    }
   ],
   "source": [
    "from statsmodels.stats.multicomp import pairwise_tukeyhsd\n",
    "tukey = pairwise_tukeyhsd(endog =normal_bmi , groups = reg , alpha = 0.05)\n",
    "tukey.plot_simultaneous()\n",
    "tukey.summary()"
   ]
  },
  {
   "cell_type": "markdown",
   "id": "3ac495ed",
   "metadata": {},
   "source": [
    "Результаты аналогичны полученным через сравнения p-значения с поправкой Бонферрони. Видим, что доверительные интервалы northwest-northeast перекрываются, поэтому пост-хок тесты показали что различия между ними не существенные."
   ]
  },
  {
   "cell_type": "markdown",
   "id": "00a18566",
   "metadata": {},
   "source": [
    "Выполнить двухфакторный ANOVA тест, чтобы проверить влияние \n",
    "региона и пола на индекс массы тела (BMI), используя функцию anova_lm() \n",
    "из библиотеки statsmodels."
   ]
  },
  {
   "cell_type": "code",
   "execution_count": 18,
   "id": "8647efd0",
   "metadata": {},
   "outputs": [
    {
     "data": {
      "text/html": [
       "<div>\n",
       "<style scoped>\n",
       "    .dataframe tbody tr th:only-of-type {\n",
       "        vertical-align: middle;\n",
       "    }\n",
       "\n",
       "    .dataframe tbody tr th {\n",
       "        vertical-align: top;\n",
       "    }\n",
       "\n",
       "    .dataframe thead th {\n",
       "        text-align: right;\n",
       "    }\n",
       "</style>\n",
       "<table border=\"1\" class=\"dataframe\">\n",
       "  <thead>\n",
       "    <tr style=\"text-align: right;\">\n",
       "      <th></th>\n",
       "      <th>sum_sq</th>\n",
       "      <th>df</th>\n",
       "      <th>F</th>\n",
       "      <th>PR(&gt;F)</th>\n",
       "    </tr>\n",
       "  </thead>\n",
       "  <tbody>\n",
       "    <tr>\n",
       "      <th>C(sex)</th>\n",
       "      <td>85.359929</td>\n",
       "      <td>1.0</td>\n",
       "      <td>2.498643</td>\n",
       "      <td>1.141824e-01</td>\n",
       "    </tr>\n",
       "    <tr>\n",
       "      <th>C(region)</th>\n",
       "      <td>4036.141807</td>\n",
       "      <td>3.0</td>\n",
       "      <td>39.381780</td>\n",
       "      <td>2.215903e-24</td>\n",
       "    </tr>\n",
       "    <tr>\n",
       "      <th>C(sex):C(region)</th>\n",
       "      <td>175.040197</td>\n",
       "      <td>3.0</td>\n",
       "      <td>1.707917</td>\n",
       "      <td>1.635099e-01</td>\n",
       "    </tr>\n",
       "    <tr>\n",
       "      <th>Residual</th>\n",
       "      <td>45401.980965</td>\n",
       "      <td>1329.0</td>\n",
       "      <td>NaN</td>\n",
       "      <td>NaN</td>\n",
       "    </tr>\n",
       "  </tbody>\n",
       "</table>\n",
       "</div>"
      ],
      "text/plain": [
       "                        sum_sq      df          F        PR(>F)\n",
       "C(sex)               85.359929     1.0   2.498643  1.141824e-01\n",
       "C(region)          4036.141807     3.0  39.381780  2.215903e-24\n",
       "C(sex):C(region)    175.040197     3.0   1.707917  1.635099e-01\n",
       "Residual          45401.980965  1329.0        NaN           NaN"
      ]
     },
     "execution_count": 18,
     "metadata": {},
     "output_type": "execute_result"
    }
   ],
   "source": [
    "df3 = df[['sex', 'region', 'bmi']].copy()\n",
    "model = ols('bmi ~ C(sex) + C(region) + C(sex):C(region)', data = df3).fit()\n",
    "sm.stats.anova_lm(model,typ=2)"
   ]
  },
  {
   "cell_type": "markdown",
   "id": "1632f8cd",
   "metadata": {},
   "source": [
    "Р-значения поля sex и совокупности полей sex:region не меньше 0.05, следовательно влияние пола на ИМТ статистически не значимо, и значительный эффект взаимодействия между полом и регионом отсутствует. Напротив, р-значение для поля region меньше 0.05, что означает влияние этого фактора на ИМТ."
   ]
  },
  {
   "cell_type": "code",
   "execution_count": 19,
   "id": "567fb633",
   "metadata": {},
   "outputs": [
    {
     "data": {
      "text/html": [
       "<div>\n",
       "<style scoped>\n",
       "    .dataframe tbody tr th:only-of-type {\n",
       "        vertical-align: middle;\n",
       "    }\n",
       "\n",
       "    .dataframe tbody tr th {\n",
       "        vertical-align: top;\n",
       "    }\n",
       "\n",
       "    .dataframe thead th {\n",
       "        text-align: right;\n",
       "    }\n",
       "</style>\n",
       "<table border=\"1\" class=\"dataframe\">\n",
       "  <thead>\n",
       "    <tr style=\"text-align: right;\">\n",
       "      <th></th>\n",
       "      <th>sex</th>\n",
       "      <th>region</th>\n",
       "      <th>bmi</th>\n",
       "    </tr>\n",
       "  </thead>\n",
       "  <tbody>\n",
       "    <tr>\n",
       "      <th>0</th>\n",
       "      <td>female</td>\n",
       "      <td>southwest</td>\n",
       "      <td>27.900</td>\n",
       "    </tr>\n",
       "    <tr>\n",
       "      <th>1</th>\n",
       "      <td>male</td>\n",
       "      <td>southeast</td>\n",
       "      <td>33.770</td>\n",
       "    </tr>\n",
       "    <tr>\n",
       "      <th>2</th>\n",
       "      <td>male</td>\n",
       "      <td>southeast</td>\n",
       "      <td>33.000</td>\n",
       "    </tr>\n",
       "    <tr>\n",
       "      <th>3</th>\n",
       "      <td>male</td>\n",
       "      <td>northwest</td>\n",
       "      <td>22.705</td>\n",
       "    </tr>\n",
       "    <tr>\n",
       "      <th>4</th>\n",
       "      <td>male</td>\n",
       "      <td>northwest</td>\n",
       "      <td>28.880</td>\n",
       "    </tr>\n",
       "    <tr>\n",
       "      <th>...</th>\n",
       "      <td>...</td>\n",
       "      <td>...</td>\n",
       "      <td>...</td>\n",
       "    </tr>\n",
       "    <tr>\n",
       "      <th>1332</th>\n",
       "      <td>male</td>\n",
       "      <td>northwest</td>\n",
       "      <td>30.970</td>\n",
       "    </tr>\n",
       "    <tr>\n",
       "      <th>1333</th>\n",
       "      <td>female</td>\n",
       "      <td>northeast</td>\n",
       "      <td>31.920</td>\n",
       "    </tr>\n",
       "    <tr>\n",
       "      <th>1334</th>\n",
       "      <td>female</td>\n",
       "      <td>southeast</td>\n",
       "      <td>36.850</td>\n",
       "    </tr>\n",
       "    <tr>\n",
       "      <th>1335</th>\n",
       "      <td>female</td>\n",
       "      <td>southwest</td>\n",
       "      <td>25.800</td>\n",
       "    </tr>\n",
       "    <tr>\n",
       "      <th>1336</th>\n",
       "      <td>female</td>\n",
       "      <td>northwest</td>\n",
       "      <td>29.070</td>\n",
       "    </tr>\n",
       "  </tbody>\n",
       "</table>\n",
       "<p>1337 rows × 3 columns</p>\n",
       "</div>"
      ],
      "text/plain": [
       "         sex     region     bmi\n",
       "0     female  southwest  27.900\n",
       "1       male  southeast  33.770\n",
       "2       male  southeast  33.000\n",
       "3       male  northwest  22.705\n",
       "4       male  northwest  28.880\n",
       "...      ...        ...     ...\n",
       "1332    male  northwest  30.970\n",
       "1333  female  northeast  31.920\n",
       "1334  female  southeast  36.850\n",
       "1335  female  southwest  25.800\n",
       "1336  female  northwest  29.070\n",
       "\n",
       "[1337 rows x 3 columns]"
      ]
     },
     "execution_count": 19,
     "metadata": {},
     "output_type": "execute_result"
    }
   ],
   "source": [
    "df3"
   ]
  },
  {
   "cell_type": "markdown",
   "id": "848f1c05",
   "metadata": {},
   "source": [
    "Выполнить пост-хок тесты Тьюки и построить график."
   ]
  },
  {
   "cell_type": "code",
   "execution_count": 20,
   "id": "ef608a00",
   "metadata": {},
   "outputs": [
    {
     "data": {
      "text/html": [
       "<table class=\"simpletable\">\n",
       "<caption>Multiple Comparison of Means - Tukey HSD, FWER=0.05</caption>\n",
       "<tr>\n",
       "        <th>group1</th>             <th>group2</th>       <th>meandiff</th>  <th>p-adj</th>  <th>lower</th>   <th>upper</th>  <th>reject</th>\n",
       "</tr>\n",
       "<tr>\n",
       "  <td>female / northeast</td> <td>female / northwest</td>  <td>-0.0464</td>   <td>1.0</td>  <td>-2.0149</td> <td>1.9222</td>   <td>False</td>\n",
       "</tr>\n",
       "<tr>\n",
       "  <td>female / northeast</td> <td>female / southeast</td>  <td>3.3469</td>    <td>0.0</td>  <td>1.4093</td>  <td>5.2846</td>   <td>True</td> \n",
       "</tr>\n",
       "<tr>\n",
       "  <td>female / northeast</td> <td>female / southwest</td>  <td>0.7362</td>  <td>0.9498</td> <td>-1.2384</td> <td>2.7107</td>   <td>False</td>\n",
       "</tr>\n",
       "<tr>\n",
       "  <td>female / northeast</td>  <td>male / northeast</td>   <td>-0.2998</td> <td>0.9998</td> <td>-2.2713</td> <td>1.6718</td>   <td>False</td>\n",
       "</tr>\n",
       "<tr>\n",
       "  <td>female / northeast</td>  <td>male / northwest</td>   <td>-0.2133</td>   <td>1.0</td>  <td>-2.194</td>  <td>1.7674</td>   <td>False</td>\n",
       "</tr>\n",
       "<tr>\n",
       "  <td>female / northeast</td>  <td>male / southeast</td>   <td>4.6657</td>    <td>0.0</td>  <td>2.7627</td>  <td>6.5686</td>   <td>True</td> \n",
       "</tr>\n",
       "<tr>\n",
       "  <td>female / northeast</td>  <td>male / southwest</td>   <td>1.8051</td>   <td>0.101</td> <td>-0.1664</td> <td>3.7767</td>   <td>False</td>\n",
       "</tr>\n",
       "<tr>\n",
       "  <td>female / northwest</td> <td>female / southeast</td>  <td>3.3933</td>    <td>0.0</td>  <td>1.4649</td>  <td>5.3217</td>   <td>True</td> \n",
       "</tr>\n",
       "<tr>\n",
       "  <td>female / northwest</td> <td>female / southwest</td>  <td>0.7825</td>  <td>0.9295</td> <td>-1.1829</td>  <td>2.748</td>   <td>False</td>\n",
       "</tr>\n",
       "<tr>\n",
       "  <td>female / northwest</td>  <td>male / northeast</td>   <td>-0.2534</td> <td>0.9999</td> <td>-2.2159</td>  <td>1.709</td>   <td>False</td>\n",
       "</tr>\n",
       "<tr>\n",
       "  <td>female / northwest</td>  <td>male / northwest</td>   <td>-0.167</td>    <td>1.0</td>  <td>-2.1386</td> <td>1.8047</td>   <td>False</td>\n",
       "</tr>\n",
       "<tr>\n",
       "  <td>female / northwest</td>  <td>male / southeast</td>    <td>4.712</td>    <td>0.0</td>  <td>2.8185</td>  <td>6.6056</td>   <td>True</td> \n",
       "</tr>\n",
       "<tr>\n",
       "  <td>female / northwest</td>  <td>male / southwest</td>   <td>1.8515</td>  <td>0.0809</td> <td>-0.111</td>  <td>3.8139</td>   <td>False</td>\n",
       "</tr>\n",
       "<tr>\n",
       "  <td>female / southeast</td> <td>female / southwest</td>  <td>-2.6108</td> <td>0.0012</td> <td>-4.5453</td> <td>-0.6762</td>  <td>True</td> \n",
       "</tr>\n",
       "<tr>\n",
       "  <td>female / southeast</td>  <td>male / northeast</td>   <td>-3.6467</td>   <td>0.0</td>  <td>-5.5782</td> <td>-1.7153</td>  <td>True</td> \n",
       "</tr>\n",
       "<tr>\n",
       "  <td>female / southeast</td>  <td>male / northwest</td>   <td>-3.5603</td>   <td>0.0</td>  <td>-5.5011</td> <td>-1.6195</td>  <td>True</td> \n",
       "</tr>\n",
       "<tr>\n",
       "  <td>female / southeast</td>  <td>male / southeast</td>   <td>1.3187</td>  <td>0.3828</td> <td>-0.5427</td> <td>3.1801</td>   <td>False</td>\n",
       "</tr>\n",
       "<tr>\n",
       "  <td>female / southeast</td>  <td>male / southwest</td>   <td>-1.5418</td> <td>0.2308</td> <td>-3.4733</td> <td>0.3896</td>   <td>False</td>\n",
       "</tr>\n",
       "<tr>\n",
       "  <td>female / southwest</td>  <td>male / northeast</td>   <td>-1.036</td>  <td>0.7519</td> <td>-3.0044</td> <td>0.9325</td>   <td>False</td>\n",
       "</tr>\n",
       "<tr>\n",
       "  <td>female / southwest</td>  <td>male / northwest</td>   <td>-0.9495</td> <td>0.8298</td> <td>-2.9272</td> <td>1.0281</td>   <td>False</td>\n",
       "</tr>\n",
       "<tr>\n",
       "  <td>female / southwest</td>  <td>male / southeast</td>   <td>3.9295</td>    <td>0.0</td>  <td>2.0297</td>  <td>5.8293</td>   <td>True</td> \n",
       "</tr>\n",
       "<tr>\n",
       "  <td>female / southwest</td>  <td>male / southwest</td>    <td>1.069</td>  <td>0.7205</td> <td>-0.8995</td> <td>3.0374</td>   <td>False</td>\n",
       "</tr>\n",
       "<tr>\n",
       "   <td>male / northeast</td>   <td>male / northwest</td>   <td>0.0864</td>    <td>1.0</td>  <td>-1.8882</td> <td>2.0611</td>   <td>False</td>\n",
       "</tr>\n",
       "<tr>\n",
       "   <td>male / northeast</td>   <td>male / southeast</td>   <td>4.9655</td>   <td>-0.0</td>  <td>3.0688</td>  <td>6.8621</td>   <td>True</td> \n",
       "</tr>\n",
       "<tr>\n",
       "   <td>male / northeast</td>   <td>male / southwest</td>   <td>2.1049</td>  <td>0.0259</td> <td>0.1395</td>  <td>4.0703</td>   <td>True</td> \n",
       "</tr>\n",
       "<tr>\n",
       "   <td>male / northwest</td>   <td>male / southeast</td>    <td>4.879</td>    <td>0.0</td>  <td>2.9729</td>  <td>6.7852</td>   <td>True</td> \n",
       "</tr>\n",
       "<tr>\n",
       "   <td>male / northwest</td>   <td>male / southwest</td>   <td>2.0185</td>   <td>0.041</td> <td>0.0438</td>  <td>3.9931</td>   <td>True</td> \n",
       "</tr>\n",
       "<tr>\n",
       "   <td>male / southeast</td>   <td>male / southwest</td>   <td>-2.8606</td> <td>0.0001</td> <td>-4.7572</td> <td>-0.9639</td>  <td>True</td> \n",
       "</tr>\n",
       "</table>"
      ],
      "text/plain": [
       "<class 'statsmodels.iolib.table.SimpleTable'>"
      ]
     },
     "execution_count": 20,
     "metadata": {},
     "output_type": "execute_result"
    },
    {
     "data": {
      "image/png": "[encoded data removed]",
      "text/plain": [
       "<Figure size 720x432 with 1 Axes>"
      ]
     },
     "metadata": {
      "needs_background": "light"
     },
     "output_type": "display_data"
    }
   ],
   "source": [
    "df3['combo']=df3.sex + \" / \"+ df3.region\n",
    "tukey = pairwise_tukeyhsd(endog =df3.bmi, groups = df3.combo , alpha = 0.05)\n",
    "tukey.plot_simultaneous()\n",
    "tukey.summary()"
   ]
  },
  {
   "cell_type": "markdown",
   "id": "9bc603a7",
   "metadata": {},
   "source": [
    "Те доверительные интервалы, которые не перекрываются и обозначены в таблице как True оказывают влияние на данные. "
   ]
  },
  {
   "cell_type": "code",
   "execution_count": null,
   "id": "2d3275e7",
   "metadata": {},
   "outputs": [],
   "source": []
  }
 ],
 "metadata": {
  "kernelspec": {
   "display_name": "Python 3 (ipykernel)",
   "language": "python",
   "name": "python3"
  },
  "language_info": {
   "codemirror_mode": {
    "name": "ipython",
    "version": 3
   },
   "file_extension": ".py",
   "mimetype": "text/x-python",
   "name": "python",
   "nbconvert_exporter": "python",
   "pygments_lexer": "ipython3",
   "version": "3.9.12"
  }
 },
 "nbformat": 4,
 "nbformat_minor": 5
}
